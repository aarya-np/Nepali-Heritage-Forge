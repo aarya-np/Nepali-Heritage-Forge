{
  "nbformat": 4,
  "nbformat_minor": 0,
  "metadata": {
    "colab": {
      "provenance": []
    },
    "kernelspec": {
      "name": "python3",
      "display_name": "Python 3"
    },
    "language_info": {
      "name": "python"
    }
  },
  "cells": [
    {
      "cell_type": "code",
      "source": [
        "!pip install pydub"
      ],
      "metadata": {
        "colab": {
          "base_uri": "https://localhost:8080/"
        },
        "id": "HVL5IINksCju",
        "outputId": "a6c9bebd-8cb6-484f-e1c2-10c5938cfee5"
      },
      "execution_count": null,
      "outputs": [
        {
          "output_type": "stream",
          "name": "stdout",
          "text": [
            "Collecting pydub\n",
            "  Downloading pydub-0.25.1-py2.py3-none-any.whl.metadata (1.4 kB)\n",
            "Downloading pydub-0.25.1-py2.py3-none-any.whl (32 kB)\n",
            "Installing collected packages: pydub\n",
            "Successfully installed pydub-0.25.1\n"
          ]
        }
      ]
    },
    {
      "cell_type": "code",
      "source": [
        "import requests\n",
        "#MeitY: 64392f96daac500b55c543cd"
      ],
      "metadata": {
        "id": "o7zDyMCiRR7Q"
      },
      "execution_count": null,
      "outputs": []
    },
    {
      "cell_type": "code",
      "source": [
        "url = 'https://meity-auth.ulcacontrib.org/ulca/apis/v0/model/getModelsPipeline'"
      ],
      "metadata": {
        "id": "nw_bflVoRSp5"
      },
      "execution_count": null,
      "outputs": []
    },
    {
      "cell_type": "code",
      "source": [
        "headers = {\n",
        "    'Content-Type':'application/json',\n",
        "    'userID' : 'c0b5cfa7bd9a4e32832c45d3ecdadd8f',\n",
        "    'ulcaApiKey':'137e95f6aa-4e8c-4eec-b019-ed3c7a976290'\n",
        "}"
      ],
      "metadata": {
        "id": "jY0NLiczRX01"
      },
      "execution_count": null,
      "outputs": []
    },
    {
      "cell_type": "code",
      "source": [
        "payload = {\n",
        "    'pipelineTasks': [\n",
        "        {\n",
        "            'taskType':'asr',\n",
        "        \"config\": {\n",
        "                \"language\": {\n",
        "                    \"sourceLanguage\": \"sa\"\n",
        "                }\n",
        "        }\n",
        "        }\n",
        "        ],\n",
        "    'pipelineRequestConfig':\n",
        "     {\n",
        "         #'pipelineId':'643930aa521a4b1ba0f4c41d',\n",
        "         'pipelineId':'64392f96daac500b55c543cd'\n",
        "         }\n",
        "}"
      ],
      "metadata": {
        "id": "tStOmY1hSOrd"
      },
      "execution_count": null,
      "outputs": []
    },
    {
      "cell_type": "code",
      "source": [
        "response = requests.post(url, json = payload, headers = headers)"
      ],
      "metadata": {
        "id": "kcEWWI10VVKP"
      },
      "execution_count": null,
      "outputs": []
    },
    {
      "cell_type": "code",
      "source": [
        "if response.status_code!=200:\n",
        "  print({'status_code':response.status_code, 'message':\"Error in asr request\"})\n",
        "else:\n",
        "  print(\"It works. Go forward\")"
      ],
      "metadata": {
        "colab": {
          "base_uri": "https://localhost:8080/"
        },
        "id": "r6pewWvFVehe",
        "outputId": "f366a5ae-35dc-4839-97bb-f56e1401127a"
      },
      "execution_count": null,
      "outputs": [
        {
          "output_type": "stream",
          "name": "stdout",
          "text": [
            "It works. Go forward\n"
          ]
        }
      ]
    },
    {
      "cell_type": "code",
      "source": [
        "response"
      ],
      "metadata": {
        "colab": {
          "base_uri": "https://localhost:8080/"
        },
        "id": "lMziwUCEV6vV",
        "outputId": "809bd0e2-3b4f-4618-fc73-633b41709fc0"
      },
      "execution_count": null,
      "outputs": [
        {
          "output_type": "execute_result",
          "data": {
            "text/plain": [
              "<Response [200]>"
            ]
          },
          "metadata": {},
          "execution_count": 8
        }
      ]
    },
    {
      "cell_type": "code",
      "source": [
        "response_data = response.json()"
      ],
      "metadata": {
        "id": "GM4_GbRubgqS"
      },
      "execution_count": null,
      "outputs": []
    },
    {
      "cell_type": "code",
      "source": [
        "response_data"
      ],
      "metadata": {
        "colab": {
          "base_uri": "https://localhost:8080/"
        },
        "id": "9Ykm8-f-ftkM",
        "outputId": "7f20c82b-0a6d-4bea-bc5f-dc1578ac008a"
      },
      "execution_count": null,
      "outputs": [
        {
          "output_type": "execute_result",
          "data": {
            "text/plain": [
              "{'languages': [{'sourceLanguage': 'sa', 'targetLanguageList': ['sa']}],\n",
              " 'pipelineResponseConfig': [{'taskType': 'asr',\n",
              "   'config': [{'serviceId': 'ai4bharat/conformer-multilingual-indo_aryan-gpu--t4',\n",
              "     'modelId': '6411742856e9de23f65b5422',\n",
              "     'language': {'sourceLanguage': 'sa', 'sourceScriptCode': 'Deva'},\n",
              "     'domain': ['general']}]}],\n",
              " 'feedbackUrl': 'https://dhruva-api.bhashini.gov.in/services/feedback/submit',\n",
              " 'pipelineInferenceAPIEndPoint': {'callbackUrl': 'https://dhruva-api.bhashini.gov.in/services/inference/pipeline',\n",
              "  'inferenceApiKey': {'name': 'Authorization',\n",
              "   'value': 'YbdeanQUDxKbRgQIZnW4PrB-7xrpLR3OvDn0eiy6xjWHuJBW-kVxF1v00zEHylQg'},\n",
              "  'isMultilingualEnabled': True,\n",
              "  'isSyncApi': True},\n",
              " 'pipelineInferenceSocketEndPoint': {'callbackUrl': 'wss://dhruva-api.bhashini.gov.in',\n",
              "  'inferenceApiKey': {'name': 'Authorization',\n",
              "   'value': 'YbdeanQUDxKbRgQIZnW4PrB-7xrpLR3OvDn0eiy6xjWHuJBW-kVxF1v00zEHylQg'},\n",
              "  'isMultilingualEnabled': True,\n",
              "  'isSyncApi': True}}"
            ]
          },
          "metadata": {},
          "execution_count": 10
        }
      ]
    },
    {
      "cell_type": "code",
      "source": [
        "service_id = response_data['pipelineResponseConfig'][0]['config'][0]['serviceId']\n",
        "service_id"
      ],
      "metadata": {
        "colab": {
          "base_uri": "https://localhost:8080/",
          "height": 36
        },
        "id": "7QdfasjVbrZg",
        "outputId": "e8585c70-74f7-4a13-c6c2-597e1c5390ac"
      },
      "execution_count": null,
      "outputs": [
        {
          "output_type": "execute_result",
          "data": {
            "text/plain": [
              "'ai4bharat/conformer-multilingual-indo_aryan-gpu--t4'"
            ],
            "application/vnd.google.colaboratory.intrinsic+json": {
              "type": "string"
            }
          },
          "metadata": {},
          "execution_count": 11
        }
      ]
    },
    {
      "cell_type": "code",
      "source": [
        "callback_url = response_data['pipelineInferenceAPIEndPoint']['callbackUrl']\n",
        "callback_url"
      ],
      "metadata": {
        "colab": {
          "base_uri": "https://localhost:8080/",
          "height": 36
        },
        "id": "-WBJyO-7f367",
        "outputId": "0e1285ba-6689-4371-ab44-a701a2ee4d88"
      },
      "execution_count": null,
      "outputs": [
        {
          "output_type": "execute_result",
          "data": {
            "text/plain": [
              "'https://dhruva-api.bhashini.gov.in/services/inference/pipeline'"
            ],
            "application/vnd.google.colaboratory.intrinsic+json": {
              "type": "string"
            }
          },
          "metadata": {},
          "execution_count": 12
        }
      ]
    },
    {
      "cell_type": "code",
      "source": [
        "headers2 = {\n",
        "    'Content-Type':'application/json',\n",
        "    response_data['pipelineInferenceAPIEndPoint']['inferenceApiKey']['name']:response_data['pipelineInferenceAPIEndPoint']['inferenceApiKey']['value']\n",
        "    }"
      ],
      "metadata": {
        "id": "5PijesoHgDnC"
      },
      "execution_count": null,
      "outputs": []
    },
    {
      "cell_type": "code",
      "source": [
        "headers2"
      ],
      "metadata": {
        "id": "NNYkqDYlhCwc",
        "outputId": "005ac8b6-9a51-4213-859a-82f3c5c38e3a",
        "colab": {
          "base_uri": "https://localhost:8080/"
        }
      },
      "execution_count": null,
      "outputs": [
        {
          "output_type": "execute_result",
          "data": {
            "text/plain": [
              "{'Content-Type': 'application/json',\n",
              " 'Authorization': 'YbdeanQUDxKbRgQIZnW4PrB-7xrpLR3OvDn0eiy6xjWHuJBW-kVxF1v00zEHylQg'}"
            ]
          },
          "metadata": {},
          "execution_count": 14
        }
      ]
    },
    {
      "cell_type": "code",
      "source": [
        "import pydub\n",
        "from pydub import AudioSegment\n",
        "audio_file_path ='/content/Recording.wav'\n",
        "given_audio = AudioSegment.from_wav(audio_file_path)\n",
        "given_audio = given_audio.set_frame_rate(16000)\n",
        "given_audio.export(\"temp.wav\",format=\"wav\", codec=\"pcm_s16le\")"
      ],
      "metadata": {
        "colab": {
          "base_uri": "https://localhost:8080/"
        },
        "id": "FEF7qKa7r-47",
        "outputId": "9309aae5-d3d4-4101-df6e-a75da4b51677"
      },
      "execution_count": null,
      "outputs": [
        {
          "output_type": "execute_result",
          "data": {
            "text/plain": [
              "<_io.BufferedRandom name='temp.wav'>"
            ]
          },
          "metadata": {},
          "execution_count": 15
        }
      ]
    },
    {
      "cell_type": "code",
      "source": [
        "import base64\n",
        "with open(\"/content/temp.wav\", \"rb\") as wav_file:\n",
        "      encoded_string = base64.b64encode(wav_file.read())\n",
        "  #Encode the file.\n",
        "encoded_string = str(encoded_string,'ascii','ignore')"
      ],
      "metadata": {
        "id": "H5oz51j8shYy"
      },
      "execution_count": null,
      "outputs": []
    },
    {
      "cell_type": "markdown",
      "source": [
        "import base64\n",
        "audio_file_path ='/content/Recording.wav'\n",
        "files = {'audio':open(audio_file_path,'rb')}\n",
        "def encode_file_to_base64(file_path):\n",
        "    with open(file_path, 'rb') as file:\n",
        "        file_content = file.read()\n",
        "        base64_encoded = base64.b64encode(file_content).decode('utf-8')\n",
        "    return base64_encoded\n",
        "base64_audio_content = encode_file_to_base64(audio_file_path)"
      ],
      "metadata": {
        "id": "EhEwQzSFmc0x"
      }
    },
    {
      "cell_type": "code",
      "source": [
        "compute_payload = {\n",
        "    'pipelineTasks':[\n",
        "        {\n",
        "        'taskType':'asr',\n",
        "        'config':{'language':{'sourceLanguage':'sa'},\n",
        "        'serviceId':service_id,\n",
        "        'audioFormat':'wav',\n",
        "        \"samplingRate\": 16000\n",
        "        }\n",
        "        }\n",
        "    ],\n",
        "    'inputData':{\n",
        "                 'audio':[\n",
        "                     {'audioContent':encoded_string}\n",
        "                 ]}\n",
        "}"
      ],
      "metadata": {
        "id": "yB13z6WnhD8r"
      },
      "execution_count": null,
      "outputs": []
    },
    {
      "cell_type": "code",
      "source": [
        "response_2 = requests.post(callback_url, headers = headers2, json=compute_payload)\n",
        "response_2"
      ],
      "metadata": {
        "id": "W6dqtL6Ci-U6",
        "colab": {
          "base_uri": "https://localhost:8080/"
        },
        "outputId": "61ef514c-d4f0-44a7-d2a9-d188362229b8"
      },
      "execution_count": null,
      "outputs": [
        {
          "output_type": "execute_result",
          "data": {
            "text/plain": [
              "<Response [200]>"
            ]
          },
          "metadata": {},
          "execution_count": 18
        }
      ]
    },
    {
      "cell_type": "code",
      "source": [
        "if response_2.status_code!=200:\n",
        "  print({'status_code':response_2.status_code,\n",
        "         'message':'Error in asr request',\n",
        "         'reponse_text':response.text\n",
        "         })\n",
        "else:\n",
        "  source_value = response_2.json()['pipelineResponse'][0]['output'][0]['source']\n",
        "  print(source_value)"
      ],
      "metadata": {
        "id": "wrzY0-ZnjFak",
        "colab": {
          "base_uri": "https://localhost:8080/"
        },
        "outputId": "a40aac02-af33-4e39-da9a-1f15bd37b791"
      },
      "execution_count": null,
      "outputs": [
        {
          "output_type": "stream",
          "name": "stdout",
          "text": [
            "पत्रः तेषाम् मध्ये राजसम्बन्धि विरूपः अपि एकः विरूपः बुध्या किञ्चित् वक्रः सः सर्वेषाम् विडम्बरम् करोति सः गुरुकुले सर्वदा नियमान्\n"
          ]
        }
      ]
    },
    {
      "cell_type": "code",
      "source": [
        "import requests\n",
        "\n",
        "def bhashini_translate(text: str, user_id: str, api_key: str, from_code: str = \"sa\", to_code: str = \"en\") -> dict:\n",
        "    \"\"\"Translates text from source language to target language using the Bhashini API.\n",
        "\n",
        "    Args:\n",
        "        text (str): The text to translate.\n",
        "        from_code (str): Source language code. Default is 'en' (English).\n",
        "        to_code (str): Target language code. Default is 'te' (Telugu).\n",
        "        user_id (str): User ID for the API.\n",
        "        api_key (str): API key for authentication.\n",
        "\n",
        "    Returns:\n",
        "        dict: A dictionary with the status code, message, and translated text or error info.\n",
        "    \"\"\"\n",
        "    # Setup the initial request to get model configurations\n",
        "    url = 'https://meity-auth.ulcacontrib.org/ulca/apis/v0/model/getModelsPipeline'\n",
        "    headers = {\n",
        "        \"Content-Type\": \"application/json\",\n",
        "        \"userID\": user_id,\n",
        "        \"ulcaApiKey\": api_key\n",
        "    }\n",
        "    payload = {\n",
        "        \"pipelineTasks\": [{\"taskType\": \"translation\", \"config\": {\"language\": {\"sourceLanguage\": from_code, \"targetLanguage\": to_code}}}],\n",
        "        \"pipelineRequestConfig\": {\"pipelineId\": \"64392f96daac500b55c543cd\"}\n",
        "    }\n",
        "    response = requests.post(url, json=payload, headers=headers)\n",
        "\n",
        "    if response.status_code != 200:\n",
        "        return {\"status_code\": response.status_code, \"message\": \"Error in translation request\", \"translated_content\": None}\n",
        "\n",
        "    # Process the response to setup the translation execution\n",
        "    response_data = response.json()\n",
        "    service_id = response_data[\"pipelineResponseConfig\"][0][\"config\"][0][\"serviceId\"]\n",
        "    callback_url = response_data[\"pipelineInferenceAPIEndPoint\"][\"callbackUrl\"]\n",
        "    headers2 = {\n",
        "        \"Content-Type\": \"application/json\",\n",
        "        response_data[\"pipelineInferenceAPIEndPoint\"][\"inferenceApiKey\"][\"name\"]: response_data[\"pipelineInferenceAPIEndPoint\"][\"inferenceApiKey\"][\"value\"]\n",
        "    }\n",
        "    compute_payload = {\n",
        "        \"pipelineTasks\": [{\"taskType\": \"translation\", \"config\": {\"language\": {\"sourceLanguage\": from_code, \"targetLanguage\": to_code}, \"serviceId\": service_id}}],\n",
        "        \"inputData\": {\"input\": [{\"source\": text}], \"audio\": [{\"audioContent\": None}]}\n",
        "    }\n",
        "\n",
        "    # Execute the translation\n",
        "    compute_response = requests.post(callback_url, json=compute_payload, headers=headers2)\n",
        "    if compute_response.status_code != 200:\n",
        "        return {\"status_code\": compute_response.status_code, \"message\": \"Error in translation\", \"translated_content\": None}\n",
        "\n",
        "    compute_response_data = compute_response.json()\n",
        "    translated_content = compute_response_data[\"pipelineResponse\"][0][\"output\"][0][\"target\"]\n",
        "\n",
        "    return {\"status_code\": 200, \"message\": \"Translation successful\", \"translated_content\": translated_content}"
      ],
      "metadata": {
        "id": "LeOlICz4evk-"
      },
      "execution_count": null,
      "outputs": []
    },
    {
      "cell_type": "code",
      "source": [
        "print(bhashini_translate(source_value,'c0b5cfa7bd9a4e32832c45d3ecdadd8f','137e95f6aa-4e8c-4eec-b019-ed3c7a976290'))"
      ],
      "metadata": {
        "colab": {
          "base_uri": "https://localhost:8080/"
        },
        "id": "_0JDeefgevvX",
        "outputId": "2654a865-c029-4007-f2e3-47aedc617414"
      },
      "execution_count": null,
      "outputs": [
        {
          "output_type": "stream",
          "name": "stdout",
          "text": [
            "{'status_code': 200, 'message': 'Translation successful', 'translated_content': 'The letter is a distortion of the royal relationship between them; it is also a distortion of the law; it is a distortion of everything.'}\n"
          ]
        }
      ]
    },
    {
      "cell_type": "code",
      "source": [
        "def make_list(text):\n",
        "    delimiter =[\"॥\",\"।\"]\n",
        "    for delimiters in delimiter:\n",
        "      text = text.replace(delimiters,'\\n')\n",
        "    #print(text)\n",
        "    new_list = text.split('\\n')\n",
        "    #print(new_list)\n",
        "    filtered_list = [item for item in new_list if item.strip()]\n",
        "    #print(filtered_list)\n",
        "    new_filtered_list =[item.replace('|','') for item in filtered_list]\n",
        "    return new_filtered_list\n",
        "\n",
        "new_list = make_list('यस्य कृत्यं न जानन्ति मन्त्र वा मन्त्रितं परे। कृतमेवास्य जानन्ति स वै पण्डित उच्यते ॥')\n",
        "print(new_list)"
      ],
      "metadata": {
        "id": "SEIO5aZcf2f5",
        "colab": {
          "base_uri": "https://localhost:8080/"
        },
        "outputId": "2eef73e0-3a60-410b-9486-ec07ba693a58"
      },
      "execution_count": null,
      "outputs": [
        {
          "output_type": "stream",
          "name": "stdout",
          "text": [
            "['यस्य कृत्यं न जानन्ति मन्त्र वा मन्त्रितं परे', ' कृतमेवास्य जानन्ति स वै पण्डित उच्यते ']\n"
          ]
        }
      ]
    },
    {
      "cell_type": "code",
      "source": [],
      "metadata": {
        "id": "ewT1Gt3RdtEq"
      },
      "execution_count": null,
      "outputs": []
    }
  ]
}